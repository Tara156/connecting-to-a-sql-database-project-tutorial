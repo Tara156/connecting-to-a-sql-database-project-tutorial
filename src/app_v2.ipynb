{
 "cells": [
  {
   "cell_type": "code",
   "execution_count": 1,
   "metadata": {},
   "outputs": [
    {
     "name": "stdout",
     "output_type": "stream",
     "text": [
      "❌ Error de conexión: Not an executable object: 'SELECT version();'\n"
     ]
    }
   ],
   "source": [
    "from sqlalchemy import create_engine\n",
    "from dotenv import load_dotenv\n",
    "import os\n",
    "\n",
    "load_dotenv()\n",
    "\n",
    "DATABASE_URL = os.getenv(\"DATABASE_URL\")\n",
    "engine = create_engine(DATABASE_URL)\n",
    "\n",
    "try:\n",
    "    with engine.connect() as conn:\n",
    "        result = conn.execute(\"SELECT version();\")\n",
    "        for row in result:\n",
    "            print(\"✅ Conectado a PostgreSQL:\", row[0])\n",
    "except Exception as e:\n",
    "    print(\"❌ Error de conexión:\", e)\n"
   ]
  },
  {
   "cell_type": "code",
   "execution_count": 2,
   "id": "118c1fb0",
   "metadata": {},
   "outputs": [
    {
     "name": "stdout",
     "output_type": "stream",
     "text": [
      "✅ Conectado a PostgreSQL: PostgreSQL 15.6, compiled by Visual C++ build 1937, 64-bit\n"
     ]
    }
   ],
   "source": [
    "from sqlalchemy import create_engine, text\n",
    "from dotenv import load_dotenv\n",
    "import os\n",
    "\n",
    "# Cargar variables del entorno\n",
    "load_dotenv()\n",
    "\n",
    "# Leer URL desde .env\n",
    "DATABASE_URL = os.getenv(\"DATABASE_URL\")\n",
    "engine = create_engine(DATABASE_URL)\n",
    "\n",
    "try:\n",
    "    with engine.connect() as conn:\n",
    "        result = conn.execute(text(\"SELECT version();\"))\n",
    "        for row in result:\n",
    "            print(\"✅ Conectado a PostgreSQL:\", row[0])\n",
    "except Exception as e:\n",
    "    print(\"❌ Error de conexión:\", e)\n"
   ]
  },
  {
   "cell_type": "code",
   "execution_count": null,
   "id": "ec131412",
   "metadata": {},
   "outputs": [],
   "source": [
    "#  para verificar\n",
    "# from dotenv import load_dotenv\n",
    "# import os\n",
    "\n",
    "# load_dotenv()  # Carga variables desde .env\n",
    "\n",
    "# database_url = os.getenv(\"DATABASE_URL\")\n",
    "# print(database_url)  \n"
   ]
  },
  {
   "cell_type": "code",
   "execution_count": 6,
   "id": "f988c86b",
   "metadata": {},
   "outputs": [
    {
     "name": "stdout",
     "output_type": "stream",
     "text": [
      "   ID             NOMBRE    DIRECCION FECHA_NACIMIENTO\n",
      "0   2    Primer Pasajero  Direccion x       2024-04-21\n",
      "1   3   Gare Von Oertzen    Butternut       2012-06-06\n",
      "2   4  Florinda Stoddart       Darwin       2019-01-07\n",
      "3   5  Elsworth Surgener       Harper       2014-01-21\n",
      "4   6    Harmonie Ducket     Talisman       2013-06-24\n"
     ]
    }
   ],
   "source": [
    "import pandas as pd\n",
    "from sqlalchemy import create_engine, text\n",
    "from dotenv import load_dotenv\n",
    "import os\n",
    "\n",
    "load_dotenv()\n",
    "engine = create_engine(os.getenv(\"DATABASE_URL\"))\n",
    "\n",
    "with engine.connect() as conn:\n",
    "    df = pd.read_sql('SELECT * FROM \"PASAJEROS\";', conn)\n",
    "    print(df.head())\n"
   ]
  }
 ],
 "metadata": {
  "kernelspec": {
   "display_name": "conecting_bd",
   "language": "python",
   "name": "python3"
  },
  "language_info": {
   "codemirror_mode": {
    "name": "ipython",
    "version": 3
   },
   "file_extension": ".py",
   "mimetype": "text/x-python",
   "name": "python",
   "nbconvert_exporter": "python",
   "pygments_lexer": "ipython3",
   "version": "3.9.13"
  }
 },
 "nbformat": 4,
 "nbformat_minor": 5
}
